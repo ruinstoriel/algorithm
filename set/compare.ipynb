{
 "cells": [
  {
   "cell_type": "markdown",
   "metadata": {},
   "source": [
    "- 双指针\n",
    "- a [1,2,4,7,8,9]\n",
    "- b [1,3,5,7,8] "
   ]
  },
  {
   "cell_type": "code",
   "execution_count": 1,
   "metadata": {},
   "outputs": [
    {
     "name": "stdout",
     "output_type": "stream",
     "text": [
      "相同 1 1\n",
      "相同 7 7\n",
      "相同 8 8\n"
     ]
    },
    {
     "ename": "IndexError",
     "evalue": "list index out of range",
     "output_type": "error",
     "traceback": [
      "\u001b[1;31m---------------------------------------------------------------------------\u001b[0m",
      "\u001b[1;31mIndexError\u001b[0m                                Traceback (most recent call last)",
      "Cell \u001b[1;32mIn[1], line 8\u001b[0m\n\u001b[0;32m      6\u001b[0m webDiffLocal \u001b[38;5;241m=\u001b[39m []\n\u001b[0;32m      7\u001b[0m \u001b[38;5;28;01mwhile\u001b[39;00m i\u001b[38;5;241m<\u001b[39m \u001b[38;5;28mlen\u001b[39m(local) \u001b[38;5;129;01mor\u001b[39;00m j \u001b[38;5;241m<\u001b[39m \u001b[38;5;28mlen\u001b[39m(webdav):\n\u001b[1;32m----> 8\u001b[0m     \u001b[38;5;28;01mif\u001b[39;00m local[i] \u001b[38;5;241m==\u001b[39m \u001b[43mwebdav\u001b[49m\u001b[43m[\u001b[49m\u001b[43mj\u001b[49m\u001b[43m]\u001b[49m:\n\u001b[0;32m      9\u001b[0m         \u001b[38;5;66;03m# 正常，可以进行其他参数比较\u001b[39;00m\n\u001b[0;32m     10\u001b[0m         \u001b[38;5;28mprint\u001b[39m(\u001b[38;5;124m\"\u001b[39m\u001b[38;5;124m相同\u001b[39m\u001b[38;5;124m\"\u001b[39m,local[i],webdav[j])\n\u001b[0;32m     11\u001b[0m     \u001b[38;5;28;01melif\u001b[39;00m local[i] \u001b[38;5;241m<\u001b[39m webdav[j]:\n\u001b[0;32m     12\u001b[0m         \u001b[38;5;66;03m# local有，webdav没有\u001b[39;00m\n",
      "\u001b[1;31mIndexError\u001b[0m: list index out of range"
     ]
    }
   ],
   "source": [
    "local = [1,2,4,7,8,9]\n",
    "webdav = [1,3,5,7,8] \n",
    "i = 0\n",
    "j = 0\n",
    "localDiffWeb = []\n",
    "webDiffLocal = []\n",
    "while i< len(local) or j < len(webdav):\n",
    "    if i == len(local):\n",
    "        webDiffLocal.append(webdav[j:])\n",
    "        break\n",
    "    if j == len(webdav):\n",
    "        localDiffWeb.append(local[i:])\n",
    "        break\n",
    "    if local[i] == webdav[j]:\n",
    "        # 正常，可以进行其他参数比较\n",
    "        print(\"相同\",local[i],webdav[j])\n",
    "    elif local[i] < webdav[j]:\n",
    "        # local有，webdav没有\n",
    "        localDiffWeb.append(local[i])\n",
    "        i+=1\n",
    "        continue\n",
    "    elif local[i] > webdav[j]:\n",
    "        # webdav有，local没有\n",
    "        webDiffLocal.append(webdav[j])\n",
    "        j+=1\n",
    "        continue\n",
    "    i+=1\n",
    "    j+=1\n",
    "print(localDiffWeb,webDiffLocal)"
   ]
  }
 ],
 "metadata": {
  "kernelspec": {
   "display_name": "Python 3",
   "language": "python",
   "name": "python3"
  },
  "language_info": {
   "codemirror_mode": {
    "name": "ipython",
    "version": 3
   },
   "file_extension": ".py",
   "mimetype": "text/x-python",
   "name": "python",
   "nbconvert_exporter": "python",
   "pygments_lexer": "ipython3",
   "version": "3.11.8"
  }
 },
 "nbformat": 4,
 "nbformat_minor": 2
}
