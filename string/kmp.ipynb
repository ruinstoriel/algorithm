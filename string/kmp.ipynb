{
 "cells": [
  {
   "cell_type": "markdown",
   "metadata": {},
   "source": [
    "- 基础思想，一部分的回退是不必要的\n",
    "- 维护两个指针，一个回退指针，一个匹配指针"
   ]
  },
  {
   "cell_type": "markdown",
   "metadata": {},
   "source": [
    "- 创建一个回退列表\n",
    "- 当到最后一位时，在构建下一位的失效指针其实是无意义的，因为已经完成了"
   ]
  },
  {
   "cell_type": "code",
   "execution_count": 21,
   "metadata": {},
   "outputs": [
    {
     "data": {
      "text/plain": [
       "[0, 0, 0, 0, 1, 2, 0, 0, 0, 1, 2, 3, 4, 5]"
      ]
     },
     "execution_count": 21,
     "metadata": {},
     "output_type": "execute_result"
    }
   ],
   "source": [
    "\n",
    "def createDfa(pat):\n",
    "    arr = [0 for i in range(0,len(pat))]\n",
    "    # 前进指针\n",
    "    i = 1\n",
    "    # 回退指针\n",
    "    j = 0\n",
    "    for a in range(0,len(pat)-2):\n",
    "        if pat[i] == pat[j]:\n",
    "                j = j + 1\n",
    "                arr[i+1] = j\n",
    "        else:\n",
    "             j = 0\n",
    "        i += 1\n",
    "    return arr\n",
    "createDfa(\"abcabdddabcabc\")"
   ]
  },
  {
   "cell_type": "markdown",
   "metadata": {},
   "source": [
    "- 当p大于0的时候，说明出现了可用的回退指针，此时，i就不应该在前进了，这也是此种方式弊病，即可能造成一定的停顿"
   ]
  },
  {
   "cell_type": "code",
   "execution_count": 23,
   "metadata": {},
   "outputs": [
    {
     "data": {
      "text/plain": [
       "12"
      ]
     },
     "execution_count": 23,
     "metadata": {},
     "output_type": "execute_result"
    }
   ],
   "source": [
    "def search(pat,context):\n",
    "    arr = createDfa(pat)\n",
    "    p = 0\n",
    "    i = 0\n",
    "    while(i < len(context) - 1):\n",
    "        if context[i] == pat[p]:\n",
    "            if p == len(pat) -1:\n",
    "                return i - p\n",
    "            else:\n",
    "                p += 1\n",
    "        else:\n",
    "            p = arr[p]\n",
    "            if p > 0:\n",
    "                continue\n",
    "        i += 1\n",
    "    return 0\n",
    "search(\"abcabdddabcabc\",\"sdfsabcabcdfabcabdddabcabcabcbcabc\")"
   ]
  },
  {
   "cell_type": "code",
   "execution_count": 3,
   "metadata": {},
   "outputs": [
    {
     "data": {
      "text/plain": [
       "[12]"
      ]
     },
     "execution_count": 3,
     "metadata": {},
     "output_type": "execute_result"
    }
   ],
   "source": [
    "def compute_prefix_function(pattern):\n",
    "    \"\"\"\n",
    "    计算模式字符串的部分匹配表（前缀函数）\n",
    "    \"\"\"\n",
    "    m = len(pattern)\n",
    "    lps = [0] * m\n",
    "    j = 0  # length of the previous longest prefix suffix\n",
    "\n",
    "    # the loop calculates lps[i] for i = 1 to m-1\n",
    "    i = 1\n",
    "    while i < m:\n",
    "        if pattern[i] == pattern[j]:\n",
    "            j += 1\n",
    "            lps[i] = j\n",
    "            i += 1\n",
    "        else:\n",
    "            if j != 0:\n",
    "                j = lps[j - 1]\n",
    "            else:\n",
    "                lps[i] = 0\n",
    "                i += 1\n",
    "\n",
    "    return lps\n",
    "def kmp_search(text, pattern):\n",
    "    \"\"\"\n",
    "    使用KMP算法在文本字符串中查找模式字符串的出现\n",
    "    \"\"\"\n",
    "    n = len(text)\n",
    "    m = len(pattern)\n",
    "    lps = compute_prefix_function(pattern)\n",
    "\n",
    "    i = 0  # index for text[]\n",
    "    j = 0  # index for pattern[]\n",
    "    results = []\n",
    "\n",
    "    while i < n:\n",
    "        if pattern[j] == text[i]:\n",
    "            i += 1\n",
    "            j += 1\n",
    "\n",
    "        if j == m:\n",
    "            results.append(i - j)\n",
    "            j = lps[j - 1]\n",
    "        elif i < n and pattern[j] != text[i]:\n",
    "            if j != 0:\n",
    "                j = lps[j - 1]\n",
    "            else:\n",
    "                i += 1\n",
    "\n",
    "    return results\n",
    "\n",
    "compute_prefix_function(\"abcabdddabcabc\")\n",
    "kmp_search(\"sdfsabcabcdfabcabdddabcabcabcbcabc\",\"abcabdddabcabc\")"
   ]
  }
 ],
 "metadata": {
  "kernelspec": {
   "display_name": "Python 3",
   "language": "python",
   "name": "python3"
  },
  "language_info": {
   "codemirror_mode": {
    "name": "ipython",
    "version": 3
   },
   "file_extension": ".py",
   "mimetype": "text/x-python",
   "name": "python",
   "nbconvert_exporter": "python",
   "pygments_lexer": "ipython3",
   "version": "3.11.8"
  }
 },
 "nbformat": 4,
 "nbformat_minor": 2
}
